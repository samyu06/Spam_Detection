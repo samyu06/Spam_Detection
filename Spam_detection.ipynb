{
  "cells": [
    {
      "cell_type": "markdown",
      "metadata": {
        "id": "83Yf_NE6MNIK"
      },
      "source": [
        "\n",
        "\n",
        "\n",
        "\n",
        "# **Libraries**\n",
        "\n",
        "---\n",
        "\n"
      ]
    },
    {
      "cell_type": "code",
      "execution_count": null,
      "metadata": {
        "colab": {
          "base_uri": "https://localhost:8080/"
        },
        "id": "0XIEZMepBgk9",
        "outputId": "f313f1bf-b462-4bcf-ee4e-fa1e16813bef"
      },
      "outputs": [
        {
          "output_type": "stream",
          "name": "stderr",
          "text": [
            "[nltk_data] Downloading package wordnet to /root/nltk_data...\n",
            "[nltk_data]   Package wordnet is already up-to-date!\n",
            "[nltk_data] Downloading package omw-1.4 to /root/nltk_data...\n",
            "[nltk_data]   Package omw-1.4 is already up-to-date!\n",
            "[nltk_data] Downloading package stopwords to /root/nltk_data...\n",
            "[nltk_data]   Package stopwords is already up-to-date!\n"
          ]
        },
        {
          "output_type": "execute_result",
          "data": {
            "text/plain": [
              "True"
            ]
          },
          "metadata": {},
          "execution_count": 14
        }
      ],
      "source": [
        "import nltk\n",
        "nltk.download('wordnet')\n",
        "nltk.download('omw-1.4')\n",
        "nltk.download('stopwords')"
      ]
    },
    {
      "cell_type": "code",
      "execution_count": null,
      "metadata": {
        "colab": {
          "base_uri": "https://localhost:8080/"
        },
        "id": "OC5eOiRj9cI8",
        "outputId": "877b4c54-755b-4eb9-f129-8b2bae3f6fc5"
      },
      "outputs": [
        {
          "output_type": "stream",
          "name": "stdout",
          "text": [
            "Looking in indexes: https://pypi.org/simple, https://us-python.pkg.dev/colab-wheels/public/simple/\n",
            "Requirement already satisfied: contractions in /usr/local/lib/python3.8/dist-packages (0.1.73)\n",
            "Requirement already satisfied: textsearch>=0.0.21 in /usr/local/lib/python3.8/dist-packages (from contractions) (0.0.24)\n",
            "Requirement already satisfied: anyascii in /usr/local/lib/python3.8/dist-packages (from textsearch>=0.0.21->contractions) (0.3.1)\n",
            "Requirement already satisfied: pyahocorasick in /usr/local/lib/python3.8/dist-packages (from textsearch>=0.0.21->contractions) (2.0.0)\n"
          ]
        }
      ],
      "source": [
        "pip install contractions"
      ]
    },
    {
      "cell_type": "code",
      "source": [
        "pip install Keras-Preprocessing"
      ],
      "metadata": {
        "colab": {
          "base_uri": "https://localhost:8080/"
        },
        "id": "7xKrc-Xlup3c",
        "outputId": "9897d4da-93b1-4df7-ace3-9bb54e084c02"
      },
      "execution_count": null,
      "outputs": [
        {
          "output_type": "stream",
          "name": "stdout",
          "text": [
            "Looking in indexes: https://pypi.org/simple, https://us-python.pkg.dev/colab-wheels/public/simple/\n",
            "Requirement already satisfied: Keras-Preprocessing in /usr/local/lib/python3.8/dist-packages (1.1.2)\n",
            "Requirement already satisfied: six>=1.9.0 in /usr/local/lib/python3.8/dist-packages (from Keras-Preprocessing) (1.15.0)\n",
            "Requirement already satisfied: numpy>=1.9.1 in /usr/local/lib/python3.8/dist-packages (from Keras-Preprocessing) (1.22.4)\n"
          ]
        }
      ]
    },
    {
      "cell_type": "code",
      "execution_count": null,
      "metadata": {
        "id": "ccnLjr4687Xa"
      },
      "outputs": [],
      "source": [
        "import pandas as pd\n",
        "import numpy as np\n",
        "import re\n",
        "import collections\n",
        "import contractions\n",
        "import seaborn as sns\n",
        "import matplotlib.pyplot as plt\n",
        "plt.style.use('dark_background')\n",
        "import nltk\n",
        "from nltk.stem import WordNetLemmatizer\n",
        "from nltk.corpus import stopwords\n",
        "import warnings\n",
        "warnings.simplefilter(action='ignore', category=Warning)\n",
        "import keras\n",
        "from keras.layers import Dense, Embedding, LSTM, Dropout\n",
        "from keras.models import Sequential\n",
        "from keras.preprocessing.text import Tokenizer\n",
        "from keras_preprocessing.sequence import pad_sequences\n",
        "import pickle\n",
        "from sklearn.model_selection import train_test_split\n",
        "from tensorflow.keras.preprocessing.text import Tokenizer\n",
        "from tensorflow.keras.preprocessing.sequence import pad_sequences\n",
        "from tensorflow.keras.layers import Dense, Input, SimpleRNN, Embedding, Dropout, Activation, Flatten, Bidirectional, GlobalMaxPool1D,GRU\n",
        "from tensorflow.keras.models import Model, Sequential\n",
        "from tensorflow.keras.callbacks import ModelCheckpoint, EarlyStopping\n",
        "from tensorflow.keras.utils import to_categorical\n",
        "from tensorflow.keras.layers import GlobalAveragePooling1D, Flatten, Dense,Dropout\n",
        "from keras.layers import Dense, Dropout, Embedding, LSTM, Bidirectional"
      ]
    },
    {
      "cell_type": "markdown",
      "metadata": {
        "id": "uKYDcYuwMTln"
      },
      "source": [
        "# Data Pre-**processing**\n",
        "\n",
        "---\n",
        "\n"
      ]
    },
    {
      "cell_type": "code",
      "execution_count": null,
      "metadata": {
        "colab": {
          "base_uri": "https://localhost:8080/",
          "height": 206
        },
        "id": "GknPUB1F-DwF",
        "outputId": "b6af8f2a-52f9-4334-cec6-78895c8a1abf"
      },
      "outputs": [
        {
          "output_type": "execute_result",
          "data": {
            "text/plain": [
              "     v1                                                 v2 Unnamed: 2  \\\n",
              "0   ham  Go until jurong point, crazy.. Available only ...        NaN   \n",
              "1   ham                      Ok lar... Joking wif u oni...        NaN   \n",
              "2  spam  Free entry in 2 a wkly comp to win FA Cup fina...        NaN   \n",
              "3   ham  U dun say so early hor... U c already then say...        NaN   \n",
              "4   ham  Nah I don't think he goes to usf, he lives aro...        NaN   \n",
              "\n",
              "  Unnamed: 3 Unnamed: 4  \n",
              "0        NaN        NaN  \n",
              "1        NaN        NaN  \n",
              "2        NaN        NaN  \n",
              "3        NaN        NaN  \n",
              "4        NaN        NaN  "
            ],
            "text/html": [
              "\n",
              "  <div id=\"df-ead8b892-5b90-41ff-9a46-5844430384a5\">\n",
              "    <div class=\"colab-df-container\">\n",
              "      <div>\n",
              "<style scoped>\n",
              "    .dataframe tbody tr th:only-of-type {\n",
              "        vertical-align: middle;\n",
              "    }\n",
              "\n",
              "    .dataframe tbody tr th {\n",
              "        vertical-align: top;\n",
              "    }\n",
              "\n",
              "    .dataframe thead th {\n",
              "        text-align: right;\n",
              "    }\n",
              "</style>\n",
              "<table border=\"1\" class=\"dataframe\">\n",
              "  <thead>\n",
              "    <tr style=\"text-align: right;\">\n",
              "      <th></th>\n",
              "      <th>v1</th>\n",
              "      <th>v2</th>\n",
              "      <th>Unnamed: 2</th>\n",
              "      <th>Unnamed: 3</th>\n",
              "      <th>Unnamed: 4</th>\n",
              "    </tr>\n",
              "  </thead>\n",
              "  <tbody>\n",
              "    <tr>\n",
              "      <th>0</th>\n",
              "      <td>ham</td>\n",
              "      <td>Go until jurong point, crazy.. Available only ...</td>\n",
              "      <td>NaN</td>\n",
              "      <td>NaN</td>\n",
              "      <td>NaN</td>\n",
              "    </tr>\n",
              "    <tr>\n",
              "      <th>1</th>\n",
              "      <td>ham</td>\n",
              "      <td>Ok lar... Joking wif u oni...</td>\n",
              "      <td>NaN</td>\n",
              "      <td>NaN</td>\n",
              "      <td>NaN</td>\n",
              "    </tr>\n",
              "    <tr>\n",
              "      <th>2</th>\n",
              "      <td>spam</td>\n",
              "      <td>Free entry in 2 a wkly comp to win FA Cup fina...</td>\n",
              "      <td>NaN</td>\n",
              "      <td>NaN</td>\n",
              "      <td>NaN</td>\n",
              "    </tr>\n",
              "    <tr>\n",
              "      <th>3</th>\n",
              "      <td>ham</td>\n",
              "      <td>U dun say so early hor... U c already then say...</td>\n",
              "      <td>NaN</td>\n",
              "      <td>NaN</td>\n",
              "      <td>NaN</td>\n",
              "    </tr>\n",
              "    <tr>\n",
              "      <th>4</th>\n",
              "      <td>ham</td>\n",
              "      <td>Nah I don't think he goes to usf, he lives aro...</td>\n",
              "      <td>NaN</td>\n",
              "      <td>NaN</td>\n",
              "      <td>NaN</td>\n",
              "    </tr>\n",
              "  </tbody>\n",
              "</table>\n",
              "</div>\n",
              "      <button class=\"colab-df-convert\" onclick=\"convertToInteractive('df-ead8b892-5b90-41ff-9a46-5844430384a5')\"\n",
              "              title=\"Convert this dataframe to an interactive table.\"\n",
              "              style=\"display:none;\">\n",
              "        \n",
              "  <svg xmlns=\"http://www.w3.org/2000/svg\" height=\"24px\"viewBox=\"0 0 24 24\"\n",
              "       width=\"24px\">\n",
              "    <path d=\"M0 0h24v24H0V0z\" fill=\"none\"/>\n",
              "    <path d=\"M18.56 5.44l.94 2.06.94-2.06 2.06-.94-2.06-.94-.94-2.06-.94 2.06-2.06.94zm-11 1L8.5 8.5l.94-2.06 2.06-.94-2.06-.94L8.5 2.5l-.94 2.06-2.06.94zm10 10l.94 2.06.94-2.06 2.06-.94-2.06-.94-.94-2.06-.94 2.06-2.06.94z\"/><path d=\"M17.41 7.96l-1.37-1.37c-.4-.4-.92-.59-1.43-.59-.52 0-1.04.2-1.43.59L10.3 9.45l-7.72 7.72c-.78.78-.78 2.05 0 2.83L4 21.41c.39.39.9.59 1.41.59.51 0 1.02-.2 1.41-.59l7.78-7.78 2.81-2.81c.8-.78.8-2.07 0-2.86zM5.41 20L4 18.59l7.72-7.72 1.47 1.35L5.41 20z\"/>\n",
              "  </svg>\n",
              "      </button>\n",
              "      \n",
              "  <style>\n",
              "    .colab-df-container {\n",
              "      display:flex;\n",
              "      flex-wrap:wrap;\n",
              "      gap: 12px;\n",
              "    }\n",
              "\n",
              "    .colab-df-convert {\n",
              "      background-color: #E8F0FE;\n",
              "      border: none;\n",
              "      border-radius: 50%;\n",
              "      cursor: pointer;\n",
              "      display: none;\n",
              "      fill: #1967D2;\n",
              "      height: 32px;\n",
              "      padding: 0 0 0 0;\n",
              "      width: 32px;\n",
              "    }\n",
              "\n",
              "    .colab-df-convert:hover {\n",
              "      background-color: #E2EBFA;\n",
              "      box-shadow: 0px 1px 2px rgba(60, 64, 67, 0.3), 0px 1px 3px 1px rgba(60, 64, 67, 0.15);\n",
              "      fill: #174EA6;\n",
              "    }\n",
              "\n",
              "    [theme=dark] .colab-df-convert {\n",
              "      background-color: #3B4455;\n",
              "      fill: #D2E3FC;\n",
              "    }\n",
              "\n",
              "    [theme=dark] .colab-df-convert:hover {\n",
              "      background-color: #434B5C;\n",
              "      box-shadow: 0px 1px 3px 1px rgba(0, 0, 0, 0.15);\n",
              "      filter: drop-shadow(0px 1px 2px rgba(0, 0, 0, 0.3));\n",
              "      fill: #FFFFFF;\n",
              "    }\n",
              "  </style>\n",
              "\n",
              "      <script>\n",
              "        const buttonEl =\n",
              "          document.querySelector('#df-ead8b892-5b90-41ff-9a46-5844430384a5 button.colab-df-convert');\n",
              "        buttonEl.style.display =\n",
              "          google.colab.kernel.accessAllowed ? 'block' : 'none';\n",
              "\n",
              "        async function convertToInteractive(key) {\n",
              "          const element = document.querySelector('#df-ead8b892-5b90-41ff-9a46-5844430384a5');\n",
              "          const dataTable =\n",
              "            await google.colab.kernel.invokeFunction('convertToInteractive',\n",
              "                                                     [key], {});\n",
              "          if (!dataTable) return;\n",
              "\n",
              "          const docLinkHtml = 'Like what you see? Visit the ' +\n",
              "            '<a target=\"_blank\" href=https://colab.research.google.com/notebooks/data_table.ipynb>data table notebook</a>'\n",
              "            + ' to learn more about interactive tables.';\n",
              "          element.innerHTML = '';\n",
              "          dataTable['output_type'] = 'display_data';\n",
              "          await google.colab.output.renderOutput(dataTable, element);\n",
              "          const docLink = document.createElement('div');\n",
              "          docLink.innerHTML = docLinkHtml;\n",
              "          element.appendChild(docLink);\n",
              "        }\n",
              "      </script>\n",
              "    </div>\n",
              "  </div>\n",
              "  "
            ]
          },
          "metadata": {},
          "execution_count": 18
        }
      ],
      "source": [
        "data = pd.read_csv(\"spam.csv\", encoding='latin-1')\n",
        "data.head()"
      ]
    },
    {
      "cell_type": "code",
      "execution_count": null,
      "metadata": {
        "colab": {
          "base_uri": "https://localhost:8080/"
        },
        "id": "ADvwo2mY_N2Z",
        "outputId": "cd617bd3-adf1-4eb6-c353-1f8cb1d028d5"
      },
      "outputs": [
        {
          "output_type": "execute_result",
          "data": {
            "text/plain": [
              "(5572, 5)"
            ]
          },
          "metadata": {},
          "execution_count": 19
        }
      ],
      "source": [
        "data.shape"
      ]
    },
    {
      "cell_type": "code",
      "execution_count": null,
      "metadata": {
        "id": "ueIh5Oep_Uoy"
      },
      "outputs": [],
      "source": [
        "data.drop([\"Unnamed: 2\", \"Unnamed: 3\", \"Unnamed: 4\"], axis=1, inplace=True)"
      ]
    },
    {
      "cell_type": "code",
      "execution_count": null,
      "metadata": {
        "id": "L5YJlEjb_VBB"
      },
      "outputs": [],
      "source": [
        "data.columns = [\"SpamHam\",\"Tweet\"]"
      ]
    },
    {
      "cell_type": "code",
      "execution_count": null,
      "metadata": {
        "id": "oNQy8UQTED9L"
      },
      "outputs": [],
      "source": [
        "x=data['Tweet']\n",
        "y=data['SpamHam']"
      ]
    },
    {
      "cell_type": "code",
      "execution_count": null,
      "metadata": {
        "colab": {
          "base_uri": "https://localhost:8080/"
        },
        "id": "d701KX6jEQrL",
        "outputId": "03cbc724-8c2e-43c5-ec60-87d2c438666d"
      },
      "outputs": [
        {
          "output_type": "execute_result",
          "data": {
            "text/plain": [
              "0    Go until jurong point, crazy.. Available only ...\n",
              "1                        Ok lar... Joking wif u oni...\n",
              "2    Free entry in 2 a wkly comp to win FA Cup fina...\n",
              "3    U dun say so early hor... U c already then say...\n",
              "4    Nah I don't think he goes to usf, he lives aro...\n",
              "Name: Tweet, dtype: object"
            ]
          },
          "metadata": {},
          "execution_count": 23
        }
      ],
      "source": [
        "x.head()"
      ]
    },
    {
      "cell_type": "code",
      "execution_count": null,
      "metadata": {
        "colab": {
          "base_uri": "https://localhost:8080/",
          "height": 863
        },
        "id": "X6bhv4VHADH4",
        "outputId": "0537d121-e5a4-4b2b-a48c-dedb186ee8c6"
      },
      "outputs": [
        {
          "output_type": "display_data",
          "data": {
            "text/plain": [
              "<Figure size 720x1080 with 1 Axes>"
            ],
            "image/png": "[encoded data removed]"
          },
          "metadata": {}
        }
      ],
      "source": [
        "def word_count_plot(data):\n",
        "     # finding words along with count\n",
        "     word_counter = collections.Counter([word for sentence in data for word in sentence.split()])\n",
        "     most_count = word_counter.most_common(30) # 30 most common words\n",
        "     # sorted data frame\n",
        "     most_count = pd.DataFrame(most_count, columns=[\"Word\", \"Count\"]).sort_values(by=\"Count\")\n",
        "     most_count.plot.barh(x = \"Word\", y = \"Count\", color=\"green\", figsize=(10, 15))\n",
        "word_count_plot(data[\"Tweet\"])"
      ]
    },
    {
      "cell_type": "code",
      "execution_count": null,
      "metadata": {
        "id": "efYL6mKKA3gC"
      },
      "outputs": [],
      "source": [
        "lem = WordNetLemmatizer()\n",
        "def preprocessing(data):\n",
        "      sms = contractions.fix(data) # converting shortened words to original (Eg:\"I'm\" to \"I am\")\n",
        "      sms = sms.lower() # lower casing the sms\n",
        "      sms = re.sub(r'https?://S+|www.S+', \"\", sms).strip() #removing url\n",
        "      sms = re.sub(\"[^a-z ]\", \"\", sms) # removing symbols and numbes\n",
        "      sms = sms.split() #splitting\n",
        "      # lemmatization and stopword removal\n",
        "      sms = [lem.lemmatize(word) for word in sms if not word in set(stopwords.words(\"english\"))]\n",
        "      sms = \" \".join(sms)\n",
        "      return sms\n",
        "x = data[\"Tweet\"].apply(preprocessing)"
      ]
    },
    {
      "cell_type": "code",
      "execution_count": null,
      "metadata": {
        "id": "5ytKkS2-CJgP"
      },
      "outputs": [],
      "source": [
        "from sklearn.preprocessing import LabelEncoder\n",
        "lb_enc = LabelEncoder()\n",
        "y = lb_enc.fit_transform(y)"
      ]
    },
    {
      "cell_type": "markdown",
      "metadata": {
        "id": "hHtrRvc-NCTv"
      },
      "source": [
        "# **Tokenization of Message**\n",
        "\n",
        "---\n",
        "\n"
      ]
    },
    {
      "cell_type": "code",
      "execution_count": null,
      "metadata": {
        "id": "wcBAd2dtCMpD"
      },
      "outputs": [],
      "source": [
        "tokenizer = Tokenizer() #initializing the tokenizer\n",
        "tokenizer.fit_on_texts(x)# fitting on the sms data\n",
        "text_to_sequence = tokenizer.texts_to_sequences(x) # creating the numerical sequence"
      ]
    },
    {
      "cell_type": "code",
      "execution_count": null,
      "metadata": {
        "colab": {
          "base_uri": "https://localhost:8080/"
        },
        "id": "2O2eDFqfCN0L",
        "outputId": "2a797924-3335-433e-9abc-171dccae8264"
      },
      "outputs": [
        {
          "output_type": "stream",
          "name": "stdout",
          "text": [
            "Text               :  go jurong point crazy available bugis n great world la e buffet cine got amore wat\n",
            "Numerical Sequence :  [3, 3575, 255, 549, 522, 1028, 35, 56, 236, 845, 80, 2411, 1029, 9, 3576, 70]\n",
            "Text               :  ok lar joking wif oni\n",
            "Numerical Sequence :  [6, 220, 1173, 328, 1539]\n",
            "Text               :  free entry wkly comp win fa cup final tkts st may text fa receive entry questionstd txt ratetcs apply over\n",
            "Numerical Sequence :  [5, 342, 582, 724, 92, 1540, 846, 478, 1541, 147, 175, 17, 1540, 221, 342, 2412, 23, 2413, 263, 2414]\n",
            "Text               :  dun say early hor c already say\n",
            "Numerical Sequence :  [142, 48, 256, 2415, 69, 75, 48]\n",
            "Text               :  nah think go usf life around though\n",
            "Numerical Sequence :  [774, 33, 3, 725, 86, 121, 195]\n"
          ]
        }
      ],
      "source": [
        " for i in range(5):\n",
        "           print(\"Text               : \",x[i] )\n",
        "           print(\"Numerical Sequence : \", text_to_sequence[i])"
      ]
    },
    {
      "cell_type": "code",
      "execution_count": null,
      "metadata": {
        "colab": {
          "base_uri": "https://localhost:8080/"
        },
        "id": "8n3i19WACQ5B",
        "outputId": "42f0ddf8-927b-40cc-ce8f-47fe49b6486b"
      },
      "outputs": [
        {
          "output_type": "execute_result",
          "data": {
            "text/plain": [
              "{1: 'call',\n",
              " 2: 'get',\n",
              " 3: 'go',\n",
              " 4: 'know',\n",
              " 5: 'free',\n",
              " 6: 'ok',\n",
              " 7: 'ltgt',\n",
              " 8: 'day',\n",
              " 9: 'got',\n",
              " 10: 'want',\n",
              " 11: 'come',\n",
              " 12: 'like',\n",
              " 13: 'love',\n",
              " 14: 'going',\n",
              " 15: 'good',\n",
              " 16: 'time',\n",
              " 17: 'text',\n",
              " 18: 'send',\n",
              " 19: 'message',\n",
              " 20: 'need',\n",
              " 21: 'one',\n",
              " 22: 'today',\n",
              " 23: 'txt',\n",
              " 24: 'home',\n",
              " 25: 'lor',\n",
              " 26: 'see',\n",
              " 27: 'sorry',\n",
              " 28: 'stop',\n",
              " 29: 'r',\n",
              " 30: 'still',\n",
              " 31: 'back',\n",
              " 32: 'mobile',\n",
              " 33: 'think',\n",
              " 34: 'reply',\n",
              " 35: 'n',\n",
              " 36: 'take',\n",
              " 37: 'tell',\n",
              " 38: 'phone',\n",
              " 39: 'new',\n",
              " 40: 'week',\n",
              " 41: 'later',\n",
              " 42: 'da',\n",
              " 43: 'hi',\n",
              " 44: 'please',\n",
              " 45: 'cannot',\n",
              " 46: 'make',\n",
              " 47: 'tomorrow',\n",
              " 48: 'say',\n",
              " 49: 'night',\n",
              " 50: 'claim',\n",
              " 51: 'well',\n",
              " 52: 'thing',\n",
              " 53: 'much',\n",
              " 54: 'dear',\n",
              " 55: 'oh',\n",
              " 56: 'great',\n",
              " 57: 'hey',\n",
              " 58: 'pls',\n",
              " 59: 'would',\n",
              " 60: 'give',\n",
              " 61: 'number',\n",
              " 62: 'way',\n",
              " 63: 'happy',\n",
              " 64: 'friend',\n",
              " 65: 'work',\n",
              " 66: 'hope',\n",
              " 67: 'u',\n",
              " 68: 'let',\n",
              " 69: 'c',\n",
              " 70: 'wat',\n",
              " 71: 'prize',\n",
              " 72: 'right',\n",
              " 73: 'yes',\n",
              " 74: 'min',\n",
              " 75: 'already',\n",
              " 76: 'ask',\n",
              " 77: 'really',\n",
              " 78: 'yeah',\n",
              " 79: 'said',\n",
              " 80: 'e',\n",
              " 81: 'k',\n",
              " 82: 'babe',\n",
              " 83: 'co',\n",
              " 84: 'p',\n",
              " 85: 'amp',\n",
              " 86: 'life',\n",
              " 87: 'meet',\n",
              " 88: 'thanks',\n",
              " 89: 'morning',\n",
              " 90: 'year',\n",
              " 91: 'last',\n",
              " 92: 'win',\n",
              " 93: 'miss',\n",
              " 94: 'service',\n",
              " 95: 'cash',\n",
              " 96: 'find',\n",
              " 97: 'ill',\n",
              " 98: 'feel',\n",
              " 99: 'lol',\n",
              " 100: 'anything',\n",
              " 101: 'every',\n",
              " 102: 'tone',\n",
              " 103: 'nokia',\n",
              " 104: 'sure',\n",
              " 105: 'pick',\n",
              " 106: 'also',\n",
              " 107: 'soon',\n",
              " 108: 'b',\n",
              " 109: 'contact',\n",
              " 110: 'keep',\n",
              " 111: 'something',\n",
              " 112: 'care',\n",
              " 113: 'sent',\n",
              " 114: 'urgent',\n",
              " 115: 'could',\n",
              " 116: 'buy',\n",
              " 117: 'place',\n",
              " 118: 'next',\n",
              " 119: 'first',\n",
              " 120: 'guy',\n",
              " 121: 'around',\n",
              " 122: 'even',\n",
              " 123: 'tonight',\n",
              " 124: 'show',\n",
              " 125: 'went',\n",
              " 126: 'customer',\n",
              " 127: 'help',\n",
              " 128: 'someone',\n",
              " 129: 'wish',\n",
              " 130: 'per',\n",
              " 131: 'wait',\n",
              " 132: 'many',\n",
              " 133: 'nice',\n",
              " 134: 'money',\n",
              " 135: 'chat',\n",
              " 136: 'ya',\n",
              " 137: 'sleep',\n",
              " 138: 'wan',\n",
              " 139: 'word',\n",
              " 140: 'always',\n",
              " 141: 'late',\n",
              " 142: 'dun',\n",
              " 143: 'people',\n",
              " 144: 'leave',\n",
              " 145: 'name',\n",
              " 146: 'end',\n",
              " 147: 'st',\n",
              " 148: 'v',\n",
              " 149: 'waiting',\n",
              " 150: 'gud',\n",
              " 151: 'told',\n",
              " 152: 'hour',\n",
              " 153: 'tc',\n",
              " 154: 'x',\n",
              " 155: 'lot',\n",
              " 156: 'minute',\n",
              " 157: 'getting',\n",
              " 158: 'girl',\n",
              " 159: 'guaranteed',\n",
              " 160: 'yet',\n",
              " 161: 'thk',\n",
              " 162: 'coming',\n",
              " 163: 'box',\n",
              " 164: 'month',\n",
              " 165: 'done',\n",
              " 166: 'hello',\n",
              " 167: 'smile',\n",
              " 168: 'try',\n",
              " 169: 'thought',\n",
              " 170: 'person',\n",
              " 171: 'haha',\n",
              " 172: 'talk',\n",
              " 173: 'class',\n",
              " 174: 'best',\n",
              " 175: 'may',\n",
              " 176: 'live',\n",
              " 177: 'mean',\n",
              " 178: 'offer',\n",
              " 179: 'th',\n",
              " 180: 'fine',\n",
              " 181: 'finish',\n",
              " 182: 'lunch',\n",
              " 183: 'man',\n",
              " 184: 'job',\n",
              " 185: 'line',\n",
              " 186: 'stuff',\n",
              " 187: 'use',\n",
              " 188: 'car',\n",
              " 189: 'sm',\n",
              " 190: 'bit',\n",
              " 191: 'draw',\n",
              " 192: 'ppm',\n",
              " 193: 'holiday',\n",
              " 194: 'heart',\n",
              " 195: 'though',\n",
              " 196: 'yup',\n",
              " 197: 'trying',\n",
              " 198: 'never',\n",
              " 199: 'special',\n",
              " 200: 'meeting',\n",
              " 201: 'plan',\n",
              " 202: 'long',\n",
              " 203: 'better',\n",
              " 204: 'account',\n",
              " 205: 'dat',\n",
              " 206: 'start',\n",
              " 207: 'chance',\n",
              " 208: 'cool',\n",
              " 209: 'ready',\n",
              " 210: 'problem',\n",
              " 211: 'god',\n",
              " 212: 'mind',\n",
              " 213: 'latest',\n",
              " 214: 'weekend',\n",
              " 215: 'birthday',\n",
              " 216: 'hr',\n",
              " 217: 'room',\n",
              " 218: 'guess',\n",
              " 219: 'enjoy',\n",
              " 220: 'lar',\n",
              " 221: 'receive',\n",
              " 222: 'cost',\n",
              " 223: 'eat',\n",
              " 224: 'look',\n",
              " 225: 'half',\n",
              " 226: 'play',\n",
              " 227: 'check',\n",
              " 228: 'awarded',\n",
              " 229: 'nothing',\n",
              " 230: 'game',\n",
              " 231: 'real',\n",
              " 232: 'yo',\n",
              " 233: 'another',\n",
              " 234: 'big',\n",
              " 235: 'voucher',\n",
              " 236: 'world',\n",
              " 237: 'camera',\n",
              " 238: 'landline',\n",
              " 239: 'house',\n",
              " 240: 'boy',\n",
              " 241: 'shit',\n",
              " 242: 'probably',\n",
              " 243: 'dinner',\n",
              " 244: 'sweet',\n",
              " 245: 'sir',\n",
              " 246: 'liao',\n",
              " 247: 'jus',\n",
              " 248: 'kiss',\n",
              " 249: 'ever',\n",
              " 250: 'watching',\n",
              " 251: 'pm',\n",
              " 252: 'watch',\n",
              " 253: 'might',\n",
              " 254: 'quite',\n",
              " 255: 'point',\n",
              " 256: 'early',\n",
              " 257: 'xxx',\n",
              " 258: 'speak',\n",
              " 259: 'aight',\n",
              " 260: 'called',\n",
              " 261: 'po',\n",
              " 262: 'pic',\n",
              " 263: 'apply',\n",
              " 264: 'fun',\n",
              " 265: 'bus',\n",
              " 266: 'nd',\n",
              " 267: 'part',\n",
              " 268: 'hear',\n",
              " 269: 'pa',\n",
              " 270: 'bed',\n",
              " 271: 'rate',\n",
              " 272: 'thanx',\n",
              " 273: 'video',\n",
              " 274: 'baby',\n",
              " 275: 'two',\n",
              " 276: 'actually',\n",
              " 277: 'den',\n",
              " 278: 'princess',\n",
              " 279: 'network',\n",
              " 280: 'remember',\n",
              " 281: 'pay',\n",
              " 282: 'maybe',\n",
              " 283: 'forgot',\n",
              " 284: 'worry',\n",
              " 285: 'question',\n",
              " 286: 'easy',\n",
              " 287: 'nite',\n",
              " 288: 'reach',\n",
              " 289: 'shopping',\n",
              " 290: 'orange',\n",
              " 291: 'bad',\n",
              " 292: 'code',\n",
              " 293: 'pobox',\n",
              " 294: 'left',\n",
              " 295: 'dis',\n",
              " 296: 'ah',\n",
              " 297: 'hurt',\n",
              " 298: 'award',\n",
              " 299: 'little',\n",
              " 300: 'sat',\n",
              " 301: 'put',\n",
              " 302: 'shall',\n",
              " 303: 'fuck',\n",
              " 304: 'dad',\n",
              " 305: 'selected',\n",
              " 306: 'enough',\n",
              " 307: 'looking',\n",
              " 308: 'school',\n",
              " 309: 'yr',\n",
              " 310: 'working',\n",
              " 311: 'evening',\n",
              " 312: 'leh',\n",
              " 313: 'g',\n",
              " 314: 'face',\n",
              " 315: 'everything',\n",
              " 316: 'gift',\n",
              " 317: 'made',\n",
              " 318: 'mate',\n",
              " 319: 'pound',\n",
              " 320: 'thank',\n",
              " 321: 'afternoon',\n",
              " 322: 'wk',\n",
              " 323: 'without',\n",
              " 324: 'tv',\n",
              " 325: 'xmas',\n",
              " 326: 'asked',\n",
              " 327: 'movie',\n",
              " 328: 'wif',\n",
              " 329: 'ringtone',\n",
              " 330: 'since',\n",
              " 331: 'came',\n",
              " 332: 'anyway',\n",
              " 333: 'must',\n",
              " 334: 'join',\n",
              " 335: 'sexy',\n",
              " 336: 'dream',\n",
              " 337: 'missing',\n",
              " 338: 'sound',\n",
              " 339: 'collect',\n",
              " 340: 'detail',\n",
              " 341: 'town',\n",
              " 342: 'entry',\n",
              " 343: 'uk',\n",
              " 344: 'lesson',\n",
              " 345: 'wanted',\n",
              " 346: 'run',\n",
              " 347: 'okay',\n",
              " 348: 'price',\n",
              " 349: 'pmin',\n",
              " 350: 'answer',\n",
              " 351: 'mail',\n",
              " 352: 'able',\n",
              " 353: 'hav',\n",
              " 354: 'important',\n",
              " 355: 'wake',\n",
              " 356: 'bring',\n",
              " 357: 'collection',\n",
              " 358: 'mob',\n",
              " 359: 'test',\n",
              " 360: 'juz',\n",
              " 361: 'til',\n",
              " 362: 'stay',\n",
              " 363: 'true',\n",
              " 364: 'charge',\n",
              " 365: 'plz',\n",
              " 366: 'book',\n",
              " 367: 'office',\n",
              " 368: 'change',\n",
              " 369: 'kind',\n",
              " 370: 'away',\n",
              " 371: 'plus',\n",
              " 372: 'wife',\n",
              " 373: 'update',\n",
              " 374: 'till',\n",
              " 375: 'pain',\n",
              " 376: 'hair',\n",
              " 377: 'wen',\n",
              " 378: 'else',\n",
              " 379: 'age',\n",
              " 380: 'weekly',\n",
              " 381: 'wot',\n",
              " 382: 'dude',\n",
              " 383: 'attempt',\n",
              " 384: 'de',\n",
              " 385: 'valid',\n",
              " 386: 'colour',\n",
              " 387: 'credit',\n",
              " 388: 'alright',\n",
              " 389: 'saw',\n",
              " 390: 'yesterday',\n",
              " 391: 'double',\n",
              " 392: 'trip',\n",
              " 393: 'making',\n",
              " 394: 'food',\n",
              " 395: 'top',\n",
              " 396: 'bt',\n",
              " 397: 'haf',\n",
              " 398: 'si',\n",
              " 399: 'ltdecimalgt',\n",
              " 400: 'oso',\n",
              " 401: 'missed',\n",
              " 402: 'music',\n",
              " 403: 'bored',\n",
              " 404: 'lei',\n",
              " 405: 'date',\n",
              " 406: 'ard',\n",
              " 407: 'tried',\n",
              " 408: 'delivery',\n",
              " 409: 'driving',\n",
              " 410: 'hot',\n",
              " 411: 'friendship',\n",
              " 412: 'drink',\n",
              " 413: 'either',\n",
              " 414: 'sch',\n",
              " 415: 'online',\n",
              " 416: 'brother',\n",
              " 417: 'mom',\n",
              " 418: 'second',\n",
              " 419: 'bonus',\n",
              " 420: 'address',\n",
              " 421: 'player',\n",
              " 422: 'order',\n",
              " 423: 'smoke',\n",
              " 424: 'story',\n",
              " 425: 'id',\n",
              " 426: 'wid',\n",
              " 427: 'club',\n",
              " 428: 'full',\n",
              " 429: 'head',\n",
              " 430: 'tot',\n",
              " 431: 'sae',\n",
              " 432: 'lose',\n",
              " 433: 'family',\n",
              " 434: 'together',\n",
              " 435: 'feeling',\n",
              " 436: 'goin',\n",
              " 437: 'sad',\n",
              " 438: 'set',\n",
              " 439: 'close',\n",
              " 440: 'smiling',\n",
              " 441: 'old',\n",
              " 442: 'believe',\n",
              " 443: 'noe',\n",
              " 444: 'happen',\n",
              " 445: 'walk',\n",
              " 446: 'calling',\n",
              " 447: 'post',\n",
              " 448: 'huh',\n",
              " 449: 'beautiful',\n",
              " 450: 'tscs',\n",
              " 451: 'saying',\n",
              " 452: 'drive',\n",
              " 453: 'await',\n",
              " 454: 'aft',\n",
              " 455: 'took',\n",
              " 456: 'finished',\n",
              " 457: 'busy',\n",
              " 458: 'private',\n",
              " 459: 'match',\n",
              " 460: 'leaving',\n",
              " 461: 'everyone',\n",
              " 462: 'hand',\n",
              " 463: 'gr',\n",
              " 464: 'awesome',\n",
              " 465: 'shop',\n",
              " 466: 'coz',\n",
              " 467: 'ring',\n",
              " 468: 'okie',\n",
              " 469: 'mths',\n",
              " 470: 'eve',\n",
              " 471: 'land',\n",
              " 472: 'thinking',\n",
              " 473: 'mum',\n",
              " 474: 'email',\n",
              " 475: 'w',\n",
              " 476: 'rite',\n",
              " 477: 'drop',\n",
              " 478: 'final',\n",
              " 479: 'caller',\n",
              " 480: 'forget',\n",
              " 481: 'congrats',\n",
              " 482: 'started',\n",
              " 483: 'statement',\n",
              " 484: 'taking',\n",
              " 485: 'content',\n",
              " 486: 'break',\n",
              " 487: 'company',\n",
              " 488: 'wil',\n",
              " 489: 'angry',\n",
              " 490: 'unsubscribe',\n",
              " 491: 'card',\n",
              " 492: 'sister',\n",
              " 493: 'valentine',\n",
              " 494: 'reason',\n",
              " 495: 'poly',\n",
              " 496: 'simple',\n",
              " 497: 'neva',\n",
              " 498: 'pub',\n",
              " 499: 'possible',\n",
              " 500: 'treat',\n",
              " 501: 'news',\n",
              " 502: 'tomo',\n",
              " 503: 'lucky',\n",
              " 504: 'search',\n",
              " 505: 'expires',\n",
              " 506: 'open',\n",
              " 507: 'fancy',\n",
              " 508: 'bank',\n",
              " 509: 'worth',\n",
              " 510: 'touch',\n",
              " 511: 'found',\n",
              " 512: 'sleeping',\n",
              " 513: 'choose',\n",
              " 514: 'mine',\n",
              " 515: 'whatever',\n",
              " 516: 'sun',\n",
              " 517: 'knw',\n",
              " 518: 'anyone',\n",
              " 519: 'parent',\n",
              " 520: 'alone',\n",
              " 521: 'auction',\n",
              " 522: 'available',\n",
              " 523: 'winner',\n",
              " 524: 'ha',\n",
              " 525: 'smth',\n",
              " 526: 'saturday',\n",
              " 527: 'decided',\n",
              " 528: 'song',\n",
              " 529: 'ticket',\n",
              " 530: 'prob',\n",
              " 531: 'happened',\n",
              " 532: 'uncle',\n",
              " 533: 'unredeemed',\n",
              " 534: 'identifier',\n",
              " 535: 'type',\n",
              " 536: 'hard',\n",
              " 537: 'frnd',\n",
              " 538: 'boytoy',\n",
              " 539: 'exam',\n",
              " 540: 'secret',\n",
              " 541: 'anytime',\n",
              " 542: 'far',\n",
              " 543: 'pmessage',\n",
              " 544: 'mobileupd',\n",
              " 545: 'dating',\n",
              " 546: 'welcome',\n",
              " 547: 'gd',\n",
              " 548: 'party',\n",
              " 549: 'crazy',\n",
              " 550: 'wonderful',\n",
              " 551: 'camcorder',\n",
              " 552: 'used',\n",
              " 553: 'gone',\n",
              " 554: 'hit',\n",
              " 555: 'operator',\n",
              " 556: 'friday',\n",
              " 557: 'mu',\n",
              " 558: 'nt',\n",
              " 559: 'ltd',\n",
              " 560: 'wit',\n",
              " 561: 'muz',\n",
              " 562: 'carlos',\n",
              " 563: 'finally',\n",
              " 564: 'college',\n",
              " 565: 'oredi',\n",
              " 566: 'congratulation',\n",
              " 567: 'read',\n",
              " 568: 'light',\n",
              " 569: 'project',\n",
              " 570: 'fucking',\n",
              " 571: 'visit',\n",
              " 572: 'nope',\n",
              " 573: 'outside',\n",
              " 574: 'fri',\n",
              " 575: 'pretty',\n",
              " 576: 'sea',\n",
              " 577: 'fast',\n",
              " 578: 'drug',\n",
              " 579: 'wonder',\n",
              " 580: 'lovely',\n",
              " 581: 'loving',\n",
              " 582: 'wkly',\n",
              " 583: 'info',\n",
              " 584: 'hungry',\n",
              " 585: 'seeing',\n",
              " 586: 'telling',\n",
              " 587: 'whole',\n",
              " 588: 'frnds',\n",
              " 589: 'dont',\n",
              " 590: 'quiz',\n",
              " 591: 'log',\n",
              " 592: 'course',\n",
              " 593: 'mrng',\n",
              " 594: 'darlin',\n",
              " 595: 'goodmorning',\n",
              " 596: 'case',\n",
              " 597: 'meant',\n",
              " 598: 'cd',\n",
              " 599: 'hold',\n",
              " 600: 'unlimited',\n",
              " 601: 'fone',\n",
              " 602: 'jay',\n",
              " 603: 'bout',\n",
              " 604: 'ten',\n",
              " 605: 'cum',\n",
              " 606: 'term',\n",
              " 607: 'listen',\n",
              " 608: 'snow',\n",
              " 609: 'gal',\n",
              " 610: 'wrong',\n",
              " 611: 'press',\n",
              " 612: 'valued',\n",
              " 613: 'im',\n",
              " 614: 'child',\n",
              " 615: 'almost',\n",
              " 616: 'etc',\n",
              " 617: 'move',\n",
              " 618: 'cut',\n",
              " 619: 'hee',\n",
              " 620: 'download',\n",
              " 621: 'computer',\n",
              " 622: 'mah',\n",
              " 623: 'bday',\n",
              " 624: 'felt',\n",
              " 625: 'invited',\n",
              " 626: 'msg',\n",
              " 627: 'joy',\n",
              " 628: 'f',\n",
              " 629: 'march',\n",
              " 630: 'optout',\n",
              " 631: 'side',\n",
              " 632: 'tel',\n",
              " 633: 'fr',\n",
              " 634: 'dnt',\n",
              " 635: 'single',\n",
              " 636: 'bslvyl',\n",
              " 637: 'lost',\n",
              " 638: 'reading',\n",
              " 639: 'txts',\n",
              " 640: 'currently',\n",
              " 641: 'moment',\n",
              " 642: 'motorola',\n",
              " 643: 'talking',\n",
              " 644: 'couple',\n",
              " 645: 'rock',\n",
              " 646: 'as',\n",
              " 647: 'different',\n",
              " 648: 'le',\n",
              " 649: 'savamob',\n",
              " 650: 'sub',\n",
              " 651: 'within',\n",
              " 652: 'yar',\n",
              " 653: 'happiness',\n",
              " 654: 'area',\n",
              " 655: 'paper',\n",
              " 656: 'opt',\n",
              " 657: 'sex',\n",
              " 658: 'mayb',\n",
              " 659: 'wats',\n",
              " 660: 'least',\n",
              " 661: 'earlier',\n",
              " 662: 'film',\n",
              " 663: 'luck',\n",
              " 664: 'chennai',\n",
              " 665: 'enter',\n",
              " 666: 'gas',\n",
              " 667: 'freemsg',\n",
              " 668: 'promise',\n",
              " 669: 'eh',\n",
              " 670: 'national',\n",
              " 671: 'eg',\n",
              " 672: 'hospital',\n",
              " 673: 'wow',\n",
              " 674: 'correct',\n",
              " 675: 'pas',\n",
              " 676: 'complimentary',\n",
              " 677: 'xx',\n",
              " 678: 'ampm',\n",
              " 679: 'load',\n",
              " 680: 'shower',\n",
              " 681: 'askd',\n",
              " 682: 'sending',\n",
              " 683: 'direct',\n",
              " 684: 'tired',\n",
              " 685: 'ni',\n",
              " 686: 'mr',\n",
              " 687: 'bill',\n",
              " 688: 'semester',\n",
              " 689: 'laptop',\n",
              " 690: 'blue',\n",
              " 691: 'swing',\n",
              " 692: 'die',\n",
              " 693: 'christmas',\n",
              " 694: 'via',\n",
              " 695: 'figure',\n",
              " 696: 'ish',\n",
              " 697: 'ago',\n",
              " 698: 'chikku',\n",
              " 699: 'seen',\n",
              " 700: 'rental',\n",
              " 701: 'supposed',\n",
              " 702: 'park',\n",
              " 703: 'ipod',\n",
              " 704: 'gym',\n",
              " 705: 'kid',\n",
              " 706: 'darren',\n",
              " 707: 'an',\n",
              " 708: 'sell',\n",
              " 709: 'eye',\n",
              " 710: 'store',\n",
              " 711: 'picking',\n",
              " 712: 'ugh',\n",
              " 713: 'extra',\n",
              " 714: 'sort',\n",
              " 715: 'knew',\n",
              " 716: 'photo',\n",
              " 717: 'support',\n",
              " 718: 'information',\n",
              " 719: 'surprise',\n",
              " 720: 'grin',\n",
              " 721: 'difficult',\n",
              " 722: 'john',\n",
              " 723: 'father',\n",
              " 724: 'comp',\n",
              " 725: 'usf',\n",
              " 726: 'request',\n",
              " 727: 'link',\n",
              " 728: 'comin',\n",
              " 729: 'cheer',\n",
              " 730: 'charged',\n",
              " 731: 'confirm',\n",
              " 732: 'abiola',\n",
              " 733: 'crave',\n",
              " 734: 'checking',\n",
              " 735: 'save',\n",
              " 736: 'loan',\n",
              " 737: 'page',\n",
              " 738: 'entered',\n",
              " 739: 'dogging',\n",
              " 740: 'txting',\n",
              " 741: 'lovable',\n",
              " 742: 'wine',\n",
              " 743: 'safe',\n",
              " 744: 'bath',\n",
              " 745: 'orchard',\n",
              " 746: 'kate',\n",
              " 747: 'lover',\n",
              " 748: 'wana',\n",
              " 749: 'hmv',\n",
              " 750: 'somebody',\n",
              " 751: 'return',\n",
              " 752: 'small',\n",
              " 753: 'discount',\n",
              " 754: 'slow',\n",
              " 755: 'mm',\n",
              " 756: 'india',\n",
              " 757: 'hmm',\n",
              " 758: 'asking',\n",
              " 759: 'rent',\n",
              " 760: 'lady',\n",
              " 761: 'door',\n",
              " 762: 'train',\n",
              " 763: 'laugh',\n",
              " 764: 'idea',\n",
              " 765: 'whenever',\n",
              " 766: 'truth',\n",
              " 767: 'heard',\n",
              " 768: 'frm',\n",
              " 769: 'fantasy',\n",
              " 770: 'fact',\n",
              " 771: 'loved',\n",
              " 772: 'slowly',\n",
              " 773: 'police',\n",
              " 774: 'nah',\n",
              " 775: 'callertune',\n",
              " 776: 'copy',\n",
              " 777: 'reward',\n",
              " 778: 'wap',\n",
              " 779: 'england',\n",
              " 780: 'turn',\n",
              " 781: 'catch',\n",
              " 782: 'oops',\n",
              " 783: 'reached',\n",
              " 784: 'joke',\n",
              " 785: 'situation',\n",
              " 786: 'short',\n",
              " 787: 'rply',\n",
              " 788: 'representative',\n",
              " 789: 'gave',\n",
              " 790: 'men',\n",
              " 791: 'del',\n",
              " 792: 'spend',\n",
              " 793: 'bathe',\n",
              " 794: 'bcoz',\n",
              " 795: 'teach',\n",
              " 796: 'road',\n",
              " 797: 'kick',\n",
              " 798: 'admirer',\n",
              " 799: 'deep',\n",
              " 800: 'leaf',\n",
              " 801: 'stupid',\n",
              " 802: 'sim',\n",
              " 803: 'somewhere',\n",
              " 804: 'immediately',\n",
              " 805: 'custcare',\n",
              " 806: 'met',\n",
              " 807: 'ex',\n",
              " 808: 'woke',\n",
              " 809: 'yep',\n",
              " 810: 'voice',\n",
              " 811: 'ldn',\n",
              " 812: 'booked',\n",
              " 813: 'remove',\n",
              " 814: 'nyt',\n",
              " 815: 'monday',\n",
              " 816: 'water',\n",
              " 817: 'opinion',\n",
              " 818: 'member',\n",
              " 819: 'hoping',\n",
              " 820: 'across',\n",
              " 821: 'warm',\n",
              " 822: 'cheap',\n",
              " 823: 'study',\n",
              " 824: 'ho',\n",
              " 825: 'gap',\n",
              " 826: 'fantastic',\n",
              " 827: 'glad',\n",
              " 828: 'wishing',\n",
              " 829: 'summer',\n",
              " 830: 'gettin',\n",
              " 831: 'understand',\n",
              " 832: 'poor',\n",
              " 833: 'otherwise',\n",
              " 834: 'ntt',\n",
              " 835: 'rd',\n",
              " 836: 'na',\n",
              " 837: 'doctor',\n",
              " 838: 'energy',\n",
              " 839: 'shes',\n",
              " 840: 'write',\n",
              " 841: 'cover',\n",
              " 842: 'doin',\n",
              " 843: 'med',\n",
              " 844: 'empty',\n",
              " 845: 'la',\n",
              " 846: 'cup',\n",
              " 847: 'std',\n",
              " 848: 'seriously',\n",
              " 849: 'suck',\n",
              " 850: 'worried',\n",
              " 851: 'sick',\n",
              " 852: 'decide',\n",
              " 853: 'forever',\n",
              " 854: 'rain',\n",
              " 855: 'bos',\n",
              " 856: 'specially',\n",
              " 857: 'flight',\n",
              " 858: 'ending',\n",
              " 859: 'buying',\n",
              " 860: 'sunshine',\n",
              " 861: 'sony',\n",
              " 862: 'lazy',\n",
              " 863: 'lect',\n",
              " 864: 'completely',\n",
              " 865: 'hmmm',\n",
              " 866: 'staying',\n",
              " 867: 'spoke',\n",
              " 868: 'especially',\n",
              " 869: 'studying',\n",
              " 870: 'trust',\n",
              " 871: 'using',\n",
              " 872: 'deal',\n",
              " 873: 'mrt',\n",
              " 874: 'disturb',\n",
              " 875: 'unless',\n",
              " 876: 'rose',\n",
              " 877: 'sport',\n",
              " 878: 'accept',\n",
              " 879: 'normal',\n",
              " 880: 'rest',\n",
              " 881: 'merry',\n",
              " 882: 'pete',\n",
              " 883: 'access',\n",
              " 884: 'round',\n",
              " 885: 'urself',\n",
              " 886: 'bluetooth',\n",
              " 887: 'reference',\n",
              " 888: 'brings',\n",
              " 889: 'mistake',\n",
              " 890: 'result',\n",
              " 891: 'style',\n",
              " 892: 'meh',\n",
              " 893: 'near',\n",
              " 894: 'silent',\n",
              " 895: 'hotel',\n",
              " 896: 'noon',\n",
              " 897: 'forwarded',\n",
              " 898: 'starting',\n",
              " 899: 'xy',\n",
              " 900: 'bold',\n",
              " 901: 'seems',\n",
              " 902: 'add',\n",
              " 903: 'wwwgetzedcouk',\n",
              " 904: 'bid',\n",
              " 905: 'charity',\n",
              " 906: 'fall',\n",
              " 907: 'tampa',\n",
              " 908: 'user',\n",
              " 909: 'sale',\n",
              " 910: 'gay',\n",
              " 911: 'hiya',\n",
              " 912: 'convey',\n",
              " 913: 'digital',\n",
              " 914: 'nobody',\n",
              " 915: 'mode',\n",
              " 916: 'wondering',\n",
              " 917: 'others',\n",
              " 918: 'bb',\n",
              " 919: 'frens',\n",
              " 920: 'tht',\n",
              " 921: 'reaching',\n",
              " 922: 'didnt',\n",
              " 923: 'excuse',\n",
              " 924: 'thinkin',\n",
              " 925: 'sitting',\n",
              " 926: 'flag',\n",
              " 927: 'colleague',\n",
              " 928: 'entitled',\n",
              " 929: 'anymore',\n",
              " 930: 'hl',\n",
              " 931: 'sunday',\n",
              " 932: 'mark',\n",
              " 933: 'pizza',\n",
              " 934: 'quick',\n",
              " 935: 'replying',\n",
              " 936: 'roommate',\n",
              " 937: 'letter',\n",
              " 938: 'nigeria',\n",
              " 939: 'ice',\n",
              " 940: 'cinema',\n",
              " 941: 'stand',\n",
              " 942: 'spent',\n",
              " 943: 'trouble',\n",
              " 944: 'planning',\n",
              " 945: 'ave',\n",
              " 946: 'apartment',\n",
              " 947: 'inc',\n",
              " 948: 'paying',\n",
              " 949: 'bak',\n",
              " 950: 'dvd',\n",
              " 951: 'pray',\n",
              " 952: 'sometimes',\n",
              " 953: 'goto',\n",
              " 954: 'freephone',\n",
              " 955: 'however',\n",
              " 956: 'dead',\n",
              " 957: 'slept',\n",
              " 958: 'gt',\n",
              " 959: 'file',\n",
              " 960: 'sign',\n",
              " 961: 'street',\n",
              " 962: 'youfind',\n",
              " 963: 'rreveal',\n",
              " 964: 'specialcall',\n",
              " 965: 'goodnight',\n",
              " 966: 'power',\n",
              " 967: 'record',\n",
              " 968: 'woman',\n",
              " 969: 'fixed',\n",
              " 970: 'wiv',\n",
              " 971: 'weed',\n",
              " 972: 'hgsuitelands',\n",
              " 973: 'rowwjhl',\n",
              " 974: 'mei',\n",
              " 975: 'picture',\n",
              " 976: 'facebook',\n",
              " 977: 'none',\n",
              " 978: 'yahoo',\n",
              " 979: 'aha',\n",
              " 980: 'funny',\n",
              " 981: 'giving',\n",
              " 982: 'din',\n",
              " 983: 'mp',\n",
              " 984: 'fat',\n",
              " 985: 'finger',\n",
              " 986: 'self',\n",
              " 987: 'workin',\n",
              " 988: 'daddy',\n",
              " 989: 'present',\n",
              " 990: 'indian',\n",
              " 991: 'euro',\n",
              " 992: 'future',\n",
              " 993: 'longer',\n",
              " 994: 'pc',\n",
              " 995: 'tuesday',\n",
              " 996: 'student',\n",
              " 997: 'tonite',\n",
              " 998: 'library',\n",
              " 999: 'space',\n",
              " 1000: 'slave',\n",
              " ...}"
            ]
          },
          "metadata": {},
          "execution_count": 29
        }
      ],
      "source": [
        "tokenizer.index_word # this will output a dictionary of index and words"
      ]
    },
    {
      "cell_type": "code",
      "execution_count": null,
      "metadata": {
        "colab": {
          "base_uri": "https://localhost:8080/"
        },
        "id": "c-0qJ_X6CUWy",
        "outputId": "5d4b5841-7065-460a-81e1-b1110c089077"
      },
      "outputs": [
        {
          "output_type": "execute_result",
          "data": {
            "text/plain": [
              "array([[   0,    0,    0, ...,    9, 3576,   70],\n",
              "       [   0,    0,    0, ..., 1173,  328, 1539],\n",
              "       [   0,    0,    0, ..., 2413,  263, 2414],\n",
              "       ...,\n",
              "       [   0,    0,    0, ..., 1024, 7818, 3573],\n",
              "       [   0,    0,    0, ...,  789,   67,    5],\n",
              "       [   0,    0,    0, ..., 2147,  363,  145]], dtype=int32)"
            ]
          },
          "metadata": {},
          "execution_count": 30
        }
      ],
      "source": [
        "max_length_sequence = max([len(i) for i in text_to_sequence])\n",
        " # finding the length of largest sequence\n",
        "X = pad_sequences(text_to_sequence, maxlen=max_length_sequence,\n",
        "                                    padding = \"pre\")\n",
        "X"
      ]
    },
    {
      "cell_type": "markdown",
      "metadata": {
        "id": "cgihjk7fNOmp"
      },
      "source": [
        "# **Training and Testing Split**\n",
        "\n",
        "---\n",
        "\n"
      ]
    },
    {
      "cell_type": "code",
      "execution_count": null,
      "metadata": {
        "id": "DjgSPkSZE49d"
      },
      "outputs": [],
      "source": [
        "X_train, X_test, y_train, y_test = train_test_split(X,y,random_state=101, test_size= 0.2)"
      ]
    },
    {
      "cell_type": "markdown",
      "metadata": {
        "id": "Cq5aMiBWNU6E"
      },
      "source": [
        "# Model **LSTM**\n",
        "\n",
        "---\n",
        "\n"
      ]
    },
    {
      "cell_type": "code",
      "execution_count": null,
      "metadata": {
        "id": "2BbTmU3DCYQB"
      },
      "outputs": [],
      "source": [
        "TOT_SIZE = len(tokenizer.word_index)+1\n",
        "def create_model():\n",
        "      lstm_model = Sequential()\n",
        "      lstm_model.add(Embedding(TOT_SIZE, 32, input_length=max_length_sequence)) #convert each word into a fixed length vector of defined size\n",
        "      lstm_model.add(LSTM(100))\n",
        "      lstm_model.add(Dropout(0.4))#to avoid overfitting #reduce the number of neurons\n",
        "      lstm_model.add(Dense(20, activation=\"relu\"))#to introduce non-linearity into the output of a neuron\n",
        "      lstm_model.add(Dropout(0.3))\n",
        "      lstm_model.add(Dense(1, activation = \"sigmoid\"))\n",
        "      return lstm_model\n",
        "lstm_model = create_model()\n",
        "lstm_model.compile(loss = \"binary_crossentropy\", optimizer = \"adam\", metrics = [\"accuracy\"])"
      ]
    },
    {
      "cell_type": "code",
      "execution_count": null,
      "metadata": {
        "colab": {
          "base_uri": "https://localhost:8080/"
        },
        "id": "-_Aj_UYHCbgV",
        "outputId": "9a952d71-6069-4d22-ff54-1cc893ec9a11"
      },
      "outputs": [
        {
          "output_type": "stream",
          "name": "stdout",
          "text": [
            "Model: \"sequential\"\n",
            "_________________________________________________________________\n",
            " Layer (type)                Output Shape              Param #   \n",
            "=================================================================\n",
            " embedding (Embedding)       (None, 79, 32)            250240    \n",
            "                                                                 \n",
            " lstm (LSTM)                 (None, 100)               53200     \n",
            "                                                                 \n",
            " dropout (Dropout)           (None, 100)               0         \n",
            "                                                                 \n",
            " dense (Dense)               (None, 20)                2020      \n",
            "                                                                 \n",
            " dropout_1 (Dropout)         (None, 20)                0         \n",
            "                                                                 \n",
            " dense_1 (Dense)             (None, 1)                 21        \n",
            "                                                                 \n",
            "=================================================================\n",
            "Total params: 305,481\n",
            "Trainable params: 305,481\n",
            "Non-trainable params: 0\n",
            "_________________________________________________________________\n"
          ]
        }
      ],
      "source": [
        "lstm_model.summary()"
      ]
    },
    {
      "cell_type": "code",
      "execution_count": null,
      "metadata": {
        "colab": {
          "base_uri": "https://localhost:8080/"
        },
        "id": "mMWhigqVCePp",
        "outputId": "136e58ad-f933-430d-99a6-8a4b3a78622a"
      },
      "outputs": [
        {
          "output_type": "stream",
          "name": "stdout",
          "text": [
            "Epoch 1/5\n",
            "223/223 [==============================] - 21s 78ms/step - loss: 0.2025 - accuracy: 0.9374 - val_loss: 0.0718 - val_accuracy: 0.9798\n",
            "Epoch 2/5\n",
            "223/223 [==============================] - 30s 133ms/step - loss: 0.0393 - accuracy: 0.9899 - val_loss: 0.0998 - val_accuracy: 0.9753\n",
            "Epoch 3/5\n",
            "223/223 [==============================] - 18s 79ms/step - loss: 0.0219 - accuracy: 0.9952 - val_loss: 0.1019 - val_accuracy: 0.9776\n",
            "Epoch 4/5\n",
            "223/223 [==============================] - 16s 73ms/step - loss: 0.0118 - accuracy: 0.9969 - val_loss: 0.1240 - val_accuracy: 0.9742\n",
            "Epoch 5/5\n",
            "223/223 [==============================] - 18s 80ms/step - loss: 0.0053 - accuracy: 0.9983 - val_loss: 0.1436 - val_accuracy: 0.9776\n"
          ]
        },
        {
          "output_type": "execute_result",
          "data": {
            "text/plain": [
              "<keras.callbacks.History at 0x7f3f708d32b0>"
            ]
          },
          "metadata": {},
          "execution_count": 34
        }
      ],
      "source": [
        "lstm_model.fit(X_train, y_train, epochs = 5, validation_split=0.2, batch_size=16)"
      ]
    },
    {
      "cell_type": "code",
      "execution_count": null,
      "metadata": {
        "colab": {
          "base_uri": "https://localhost:8080/"
        },
        "id": "sc4wjnHTDLvn",
        "outputId": "a7fe1c11-2c32-4a99-a44c-b6b5f75f34d5"
      },
      "outputs": [
        {
          "output_type": "stream",
          "name": "stdout",
          "text": [
            "35/35 [==============================] - 1s 26ms/step - loss: 0.0986 - accuracy: 0.9803\n"
          ]
        }
      ],
      "source": [
        "test_acc=lstm_model.evaluate(X_test,y_test)"
      ]
    },
    {
      "cell_type": "code",
      "execution_count": null,
      "metadata": {
        "colab": {
          "base_uri": "https://localhost:8080/"
        },
        "id": "XNYBVETSF_-k",
        "outputId": "4c1b1a7e-4c4c-484a-cb60-88a8b439f280"
      },
      "outputs": [
        {
          "output_type": "stream",
          "name": "stdout",
          "text": [
            "accuracy for LSTM model is 98.027\n"
          ]
        }
      ],
      "source": [
        "print('accuracy for LSTM model is %.03f'%(test_acc[1]*100))"
      ]
    },
    {
      "cell_type": "markdown",
      "metadata": {
        "id": "IwrmOIOPN-K5"
      },
      "source": [
        "# **Model Bidirectional LSTM**\n",
        "\n",
        "---\n",
        "\n"
      ]
    },
    {
      "cell_type": "code",
      "execution_count": null,
      "metadata": {
        "id": "3TeF9XZGG3Uk"
      },
      "outputs": [],
      "source": [
        "TOT_SIZE = len(tokenizer.word_index)+1\n",
        "def create_model():\n",
        "\n",
        "      bidirectional_lstm_model = Sequential()\n",
        "      bidirectional_lstm_model.add(Embedding(TOT_SIZE, 32, input_length=max_length_sequence))\n",
        "      bidirectional_lstm_model.add(Bidirectional(LSTM(64)))\n",
        "      bidirectional_lstm_model.add(Dropout(0.4))\n",
        "      bidirectional_lstm_model.add(Dense(20, activation=\"relu\")) #to introduce non-linearity into the output of a neuron.\n",
        "      bidirectional_lstm_model.add(Dropout(0.3))\n",
        "      bidirectional_lstm_model.add(Dense(1, activation = \"sigmoid\"))\n",
        "      return bidirectional_lstm_model\n",
        "bidirectional_lstm_model = create_model()\n",
        "bidirectional_lstm_model.compile(loss = \"binary_crossentropy\", optimizer = \"adam\", metrics = [\"accuracy\"])"
      ]
    },
    {
      "cell_type": "code",
      "execution_count": null,
      "metadata": {
        "colab": {
          "base_uri": "https://localhost:8080/"
        },
        "id": "ilMSul-pHcsq",
        "outputId": "6d113f8a-7b8e-4a38-8abb-c4fe84e0bc61"
      },
      "outputs": [
        {
          "output_type": "stream",
          "name": "stdout",
          "text": [
            "Model: \"sequential_1\"\n",
            "_________________________________________________________________\n",
            " Layer (type)                Output Shape              Param #   \n",
            "=================================================================\n",
            " embedding_1 (Embedding)     (None, 79, 32)            250240    \n",
            "                                                                 \n",
            " bidirectional (Bidirectiona  (None, 128)              49664     \n",
            " l)                                                              \n",
            "                                                                 \n",
            " dropout_2 (Dropout)         (None, 128)               0         \n",
            "                                                                 \n",
            " dense_2 (Dense)             (None, 20)                2580      \n",
            "                                                                 \n",
            " dropout_3 (Dropout)         (None, 20)                0         \n",
            "                                                                 \n",
            " dense_3 (Dense)             (None, 1)                 21        \n",
            "                                                                 \n",
            "=================================================================\n",
            "Total params: 302,505\n",
            "Trainable params: 302,505\n",
            "Non-trainable params: 0\n",
            "_________________________________________________________________\n"
          ]
        }
      ],
      "source": [
        "bidirectional_lstm_model.summary()"
      ]
    },
    {
      "cell_type": "code",
      "execution_count": null,
      "metadata": {
        "colab": {
          "base_uri": "https://localhost:8080/"
        },
        "id": "7BXJm9lKHxox",
        "outputId": "02cfb566-3571-4716-c422-761635820f11"
      },
      "outputs": [
        {
          "output_type": "stream",
          "name": "stdout",
          "text": [
            "Epoch 1/5\n",
            "223/223 [==============================] - 30s 100ms/step - loss: 0.2263 - accuracy: 0.9273 - val_loss: 0.0668 - val_accuracy: 0.9809\n",
            "Epoch 2/5\n",
            "223/223 [==============================] - 20s 87ms/step - loss: 0.0379 - accuracy: 0.9905 - val_loss: 0.0765 - val_accuracy: 0.9787\n",
            "Epoch 3/5\n",
            "223/223 [==============================] - 21s 92ms/step - loss: 0.0155 - accuracy: 0.9969 - val_loss: 0.1070 - val_accuracy: 0.9843\n",
            "Epoch 4/5\n",
            "223/223 [==============================] - 19s 84ms/step - loss: 0.0088 - accuracy: 0.9975 - val_loss: 0.1048 - val_accuracy: 0.9776\n",
            "Epoch 5/5\n",
            "223/223 [==============================] - 21s 94ms/step - loss: 0.0053 - accuracy: 0.9986 - val_loss: 0.1160 - val_accuracy: 0.9809\n"
          ]
        },
        {
          "output_type": "execute_result",
          "data": {
            "text/plain": [
              "<keras.callbacks.History at 0x7f3f63919c10>"
            ]
          },
          "metadata": {},
          "execution_count": 39
        }
      ],
      "source": [
        "bidirectional_lstm_model.fit(X_train, y_train, epochs = 5, validation_split=0.2, batch_size=16)"
      ]
    },
    {
      "cell_type": "code",
      "execution_count": null,
      "metadata": {
        "colab": {
          "base_uri": "https://localhost:8080/"
        },
        "id": "fFBY2s3yIA7o",
        "outputId": "ab9ce945-c852-44b6-aa17-c74c3745ca46"
      },
      "outputs": [
        {
          "output_type": "stream",
          "name": "stdout",
          "text": [
            "35/35 [==============================] - 1s 22ms/step - loss: 0.1103 - accuracy: 0.9812\n"
          ]
        }
      ],
      "source": [
        "test_acc_bidirectional_lstm_model=bidirectional_lstm_model.evaluate(X_test,y_test)"
      ]
    },
    {
      "cell_type": "code",
      "execution_count": null,
      "metadata": {
        "colab": {
          "base_uri": "https://localhost:8080/"
        },
        "id": "yabcve2AIDEK",
        "outputId": "0833fb68-948e-4850-c31f-9ac97ccdb7be"
      },
      "outputs": [
        {
          "output_type": "stream",
          "name": "stdout",
          "text": [
            "accuracy for bidirectional lstm model is 98.117\n"
          ]
        }
      ],
      "source": [
        "print('accuracy for bidirectional lstm model is %.03f'%(test_acc_bidirectional_lstm_model[1]*100))"
      ]
    },
    {
      "cell_type": "markdown",
      "metadata": {
        "id": "WKi7kZDwOC9c"
      },
      "source": [
        "# **Model Dense Text Classifier**"
      ]
    },
    {
      "cell_type": "code",
      "execution_count": null,
      "metadata": {
        "id": "bxHaIZrlYwz4"
      },
      "outputs": [],
      "source": [
        "vocab_size = 500 # As defined earlier\n",
        "embeding_dim = 16\n",
        "drop_value = 0.2 # dropout\n",
        "n_dense = 21\n",
        "max_len = 50\n",
        "trunc_type = \"post\"\n",
        "padding_type = \"post\"\n",
        "oov_tok = \"<OOV>\"\n",
        "vocab_size = 500"
      ]
    },
    {
      "cell_type": "code",
      "execution_count": null,
      "metadata": {
        "colab": {
          "base_uri": "https://localhost:8080/"
        },
        "id": "24g94yt3TWAy",
        "outputId": "89f6dd40-1bb8-4722-af65-3fab8f2ffe46"
      },
      "outputs": [
        {
          "output_type": "stream",
          "name": "stdout",
          "text": [
            "Model: \"sequential_2\"\n",
            "_________________________________________________________________\n",
            " Layer (type)                Output Shape              Param #   \n",
            "=================================================================\n",
            " embedding_2 (Embedding)     (None, 50, 16)            8000      \n",
            "                                                                 \n",
            " global_average_pooling1d (G  (None, 16)               0         \n",
            " lobalAveragePooling1D)                                          \n",
            "                                                                 \n",
            " dense_4 (Dense)             (None, 24)                408       \n",
            "                                                                 \n",
            " dropout_4 (Dropout)         (None, 24)                0         \n",
            "                                                                 \n",
            " dense_5 (Dense)             (None, 1)                 25        \n",
            "                                                                 \n",
            "=================================================================\n",
            "Total params: 8,433\n",
            "Trainable params: 8,433\n",
            "Non-trainable params: 0\n",
            "_________________________________________________________________\n"
          ]
        }
      ],
      "source": [
        "model = Sequential()\n",
        "model.add(Embedding(vocab_size, embeding_dim, input_length=max_len))#convert to vectors\n",
        "model.add(GlobalAveragePooling1D())#average pooling is done in order to smooth the flow of neurons and avoid overfitting\n",
        "model.add(Dense(24, activation='relu'))#to introduce non-linearity into the output of a neuron\n",
        "model.add(Dropout(drop_value))#how many neurons should be dropped to avoid overfiting\n",
        "model.add(Dense(1, activation='sigmoid'))#regular deeply connects neural network layer\n",
        "model.summary()"
      ]
    },
    {
      "cell_type": "code",
      "execution_count": null,
      "metadata": {
        "id": "ZhgDzkcvZMfF"
      },
      "outputs": [],
      "source": [
        "model.compile(loss='binary_crossentropy',optimizer='adam' ,metrics=['accuracy'])"
      ]
    },
    {
      "cell_type": "code",
      "execution_count": null,
      "metadata": {
        "id": "cqvAj2ASaDYH"
      },
      "outputs": [],
      "source": [
        "tokenizer = Tokenizer(num_words = vocab_size, char_level=False, oov_token = oov_tok)\n",
        "tokenizer.fit_on_texts(x)\n",
        "training_sequences = tokenizer.texts_to_sequences(x)"
      ]
    },
    {
      "cell_type": "code",
      "execution_count": null,
      "metadata": {
        "colab": {
          "base_uri": "https://localhost:8080/"
        },
        "id": "buksaB3GKs6t",
        "outputId": "48947cdd-7e8e-40d9-ea15-1076744f4dd6"
      },
      "outputs": [
        {
          "output_type": "stream",
          "name": "stdout",
          "text": [
            "[4, 1, 256, 1, 1, 1, 36, 57, 237, 1, 81, 1, 1, 10, 1, 71]\n"
          ]
        }
      ],
      "source": [
        "print(training_sequences[0])"
      ]
    },
    {
      "cell_type": "code",
      "execution_count": null,
      "metadata": {
        "id": "nmam6z4ca6tm"
      },
      "outputs": [],
      "source": [
        "training_padded = pad_sequences (training_sequences, maxlen = max_len, padding = padding_type, truncating = trunc_type )"
      ]
    },
    {
      "cell_type": "code",
      "execution_count": null,
      "metadata": {
        "colab": {
          "base_uri": "https://localhost:8080/"
        },
        "id": "B4AorxxALEUz",
        "outputId": "f41c8285-887f-45bc-8c68-44ef0062abf6"
      },
      "outputs": [
        {
          "output_type": "stream",
          "name": "stdout",
          "text": [
            "[  4   1 256   1   1   1  36  57 237   1  81   1   1  10   1  71   0   0\n",
            "   0   0   0   0   0   0   0   0   0   0   0   0   0   0   0   0   0   0\n",
            "   0   0   0   0   0   0   0   0   0   0   0   0   0   0]\n"
          ]
        }
      ],
      "source": [
        "print(training_padded[0])"
      ]
    },
    {
      "cell_type": "code",
      "execution_count": null,
      "metadata": {
        "colab": {
          "base_uri": "https://localhost:8080/"
        },
        "id": "TsFmHeBlbf4S",
        "outputId": "14679427-06a2-4cd4-92a0-fe8159d1f867"
      },
      "outputs": [
        {
          "output_type": "execute_result",
          "data": {
            "text/plain": [
              "(50, 50)"
            ]
          },
          "metadata": {},
          "execution_count": 49
        }
      ],
      "source": [
        "len(training_padded[0]), len(training_padded[1])"
      ]
    },
    {
      "cell_type": "markdown",
      "metadata": {
        "id": "8E4RCi8lLdh9"
      },
      "source": [
        "# **test and train split**\n",
        "\n",
        "---\n",
        "\n"
      ]
    },
    {
      "cell_type": "code",
      "execution_count": null,
      "metadata": {
        "id": "NNnQCQBXcEUH"
      },
      "outputs": [],
      "source": [
        "X_train, X_test, y_train, y_test = train_test_split(training_padded,y,random_state=101, test_size= 0.2)"
      ]
    },
    {
      "cell_type": "markdown",
      "metadata": {
        "id": "Twi7XxWVLjTg"
      },
      "source": [
        "# **Model**\n",
        "---\n",
        "\n"
      ]
    },
    {
      "cell_type": "code",
      "execution_count": null,
      "metadata": {
        "id": "NrFMQG6zUaqI",
        "colab": {
          "base_uri": "https://localhost:8080/"
        },
        "outputId": "cc90c3d0-9b2e-48a4-d09b-29f94c3e632a"
      },
      "outputs": [
        {
          "output_type": "stream",
          "name": "stdout",
          "text": [
            "Epoch 1/25\n",
            "112/112 - 2s - loss: 0.5251 - accuracy: 0.8662 - val_loss: 0.3986 - val_accuracy: 0.8520 - 2s/epoch - 14ms/step\n",
            "Epoch 2/25\n",
            "112/112 - 0s - loss: 0.3637 - accuracy: 0.8662 - val_loss: 0.3694 - val_accuracy: 0.8520 - 363ms/epoch - 3ms/step\n",
            "Epoch 3/25\n",
            "112/112 - 0s - loss: 0.3336 - accuracy: 0.8662 - val_loss: 0.3397 - val_accuracy: 0.8520 - 334ms/epoch - 3ms/step\n",
            "Epoch 4/25\n",
            "112/112 - 0s - loss: 0.2977 - accuracy: 0.8662 - val_loss: 0.2880 - val_accuracy: 0.8520 - 323ms/epoch - 3ms/step\n",
            "Epoch 5/25\n",
            "112/112 - 0s - loss: 0.2408 - accuracy: 0.8808 - val_loss: 0.2352 - val_accuracy: 0.9025 - 336ms/epoch - 3ms/step\n",
            "Epoch 6/25\n",
            "112/112 - 0s - loss: 0.1919 - accuracy: 0.9251 - val_loss: 0.1841 - val_accuracy: 0.9283 - 317ms/epoch - 3ms/step\n",
            "Epoch 7/25\n",
            "112/112 - 0s - loss: 0.1468 - accuracy: 0.9548 - val_loss: 0.1508 - val_accuracy: 0.9406 - 295ms/epoch - 3ms/step\n",
            "Epoch 8/25\n",
            "112/112 - 0s - loss: 0.1117 - accuracy: 0.9658 - val_loss: 0.1236 - val_accuracy: 0.9496 - 332ms/epoch - 3ms/step\n",
            "Epoch 9/25\n",
            "112/112 - 0s - loss: 0.0924 - accuracy: 0.9703 - val_loss: 0.1070 - val_accuracy: 0.9585 - 317ms/epoch - 3ms/step\n",
            "Epoch 10/25\n",
            "112/112 - 0s - loss: 0.0823 - accuracy: 0.9731 - val_loss: 0.0955 - val_accuracy: 0.9664 - 317ms/epoch - 3ms/step\n",
            "Epoch 11/25\n",
            "112/112 - 0s - loss: 0.0695 - accuracy: 0.9784 - val_loss: 0.0941 - val_accuracy: 0.9664 - 436ms/epoch - 4ms/step\n",
            "Epoch 12/25\n",
            "112/112 - 0s - loss: 0.0665 - accuracy: 0.9790 - val_loss: 0.0866 - val_accuracy: 0.9697 - 444ms/epoch - 4ms/step\n",
            "Epoch 13/25\n",
            "112/112 - 0s - loss: 0.0585 - accuracy: 0.9798 - val_loss: 0.0982 - val_accuracy: 0.9686 - 475ms/epoch - 4ms/step\n",
            "Epoch 14/25\n",
            "112/112 - 0s - loss: 0.0546 - accuracy: 0.9818 - val_loss: 0.0901 - val_accuracy: 0.9675 - 450ms/epoch - 4ms/step\n",
            "Epoch 15/25\n",
            "112/112 - 1s - loss: 0.0526 - accuracy: 0.9815 - val_loss: 0.0829 - val_accuracy: 0.9720 - 566ms/epoch - 5ms/step\n",
            "Epoch 16/25\n",
            "112/112 - 0s - loss: 0.0508 - accuracy: 0.9837 - val_loss: 0.0844 - val_accuracy: 0.9686 - 474ms/epoch - 4ms/step\n",
            "Epoch 17/25\n",
            "112/112 - 0s - loss: 0.0496 - accuracy: 0.9851 - val_loss: 0.0871 - val_accuracy: 0.9709 - 312ms/epoch - 3ms/step\n",
            "Epoch 18/25\n",
            "112/112 - 0s - loss: 0.0453 - accuracy: 0.9851 - val_loss: 0.0856 - val_accuracy: 0.9742 - 323ms/epoch - 3ms/step\n",
            "Epoch 19/25\n",
            "112/112 - 0s - loss: 0.0436 - accuracy: 0.9837 - val_loss: 0.0806 - val_accuracy: 0.9765 - 344ms/epoch - 3ms/step\n",
            "Epoch 20/25\n",
            "112/112 - 0s - loss: 0.0427 - accuracy: 0.9871 - val_loss: 0.0807 - val_accuracy: 0.9787 - 365ms/epoch - 3ms/step\n",
            "Epoch 21/25\n",
            "112/112 - 0s - loss: 0.0403 - accuracy: 0.9882 - val_loss: 0.0899 - val_accuracy: 0.9742 - 324ms/epoch - 3ms/step\n",
            "Epoch 22/25\n",
            "112/112 - 0s - loss: 0.0383 - accuracy: 0.9879 - val_loss: 0.0926 - val_accuracy: 0.9753 - 341ms/epoch - 3ms/step\n",
            "Epoch 23/25\n",
            "112/112 - 0s - loss: 0.0365 - accuracy: 0.9879 - val_loss: 0.0906 - val_accuracy: 0.9776 - 345ms/epoch - 3ms/step\n",
            "Epoch 24/25\n",
            "112/112 - 0s - loss: 0.0361 - accuracy: 0.9888 - val_loss: 0.0883 - val_accuracy: 0.9776 - 339ms/epoch - 3ms/step\n",
            "Epoch 25/25\n",
            "112/112 - 0s - loss: 0.0335 - accuracy: 0.9905 - val_loss: 0.0824 - val_accuracy: 0.9765 - 327ms/epoch - 3ms/step\n"
          ]
        },
        {
          "output_type": "execute_result",
          "data": {
            "text/plain": [
              "<keras.callbacks.History at 0x7f3f60bfd460>"
            ]
          },
          "metadata": {},
          "execution_count": 51
        }
      ],
      "source": [
        "num_epochs = 25\n",
        "\n",
        "model.fit(X_train, y_train, epochs=num_epochs, validation_split=0.2, verbose=2)\n"
      ]
    },
    {
      "cell_type": "code",
      "execution_count": null,
      "metadata": {
        "id": "oR_sEKVUVQvh",
        "colab": {
          "base_uri": "https://localhost:8080/"
        },
        "outputId": "8f8f9bae-2d6b-43d1-ba6e-76ad1928ee71"
      },
      "outputs": [
        {
          "output_type": "stream",
          "name": "stdout",
          "text": [
            "35/35 [==============================] - 0s 2ms/step - loss: 0.0735 - accuracy: 0.9821\n"
          ]
        }
      ],
      "source": [
        "test_acc=model.evaluate(X_test,y_test)"
      ]
    },
    {
      "cell_type": "code",
      "execution_count": null,
      "metadata": {
        "id": "mddHlVCDdkm_",
        "colab": {
          "base_uri": "https://localhost:8080/"
        },
        "outputId": "adc0fecc-6251-4eeb-8e8d-5be75dd7021d"
      },
      "outputs": [
        {
          "output_type": "stream",
          "name": "stdout",
          "text": [
            "accuracy for DenseTextClassifier model is 98.21\n"
          ]
        }
      ],
      "source": [
        "print('accuracy for DenseTextClassifier model is %.02f'%(test_acc[1]*100))"
      ]
    }
  ],
  "metadata": {
    "colab": {
      "collapsed_sections": [
        "cgihjk7fNOmp",
        "Cq5aMiBWNU6E",
        "IwrmOIOPN-K5",
        "WKi7kZDwOC9c",
        "8E4RCi8lLdh9",
        "Twi7XxWVLjTg"
      ],
      "provenance": []
    },
    "kernelspec": {
      "display_name": "Python 3",
      "name": "python3"
    },
    "language_info": {
      "name": "python"
    }
  },
  "nbformat": 4,
  "nbformat_minor": 0
}